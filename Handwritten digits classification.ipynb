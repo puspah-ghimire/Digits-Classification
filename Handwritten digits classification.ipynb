{
 "cells": [
  {
   "cell_type": "markdown",
   "id": "dba293da-d2d0-46c3-b4e7-365a398da186",
   "metadata": {},
   "source": [
    "**Importing required libraries**"
   ]
  },
  {
   "cell_type": "code",
   "execution_count": 1,
   "id": "2a18036a-c4d1-4cda-876f-bb065e3fbcb8",
   "metadata": {
    "tags": []
   },
   "outputs": [],
   "source": [
    "import warnings\n",
    "warnings.filterwarnings('ignore')\n",
    "\n",
    "import tensorflow as tf\n",
    "from tensorflow.examples.tutorials.mnist import input_data\n",
    "tf.logging.set_verbosity(tf.logging.ERROR)\n",
    "\n",
    "import matplotlib.pyplot as plt\n",
    "%matplotlib inline"
   ]
  },
  {
   "cell_type": "code",
   "execution_count": 3,
   "id": "908e114b-bd2c-42bf-8231-4b0e7defec9b",
   "metadata": {
    "tags": []
   },
   "outputs": [
    {
     "name": "stdout",
     "output_type": "stream",
     "text": [
      "1.13.1\n"
     ]
    }
   ],
   "source": [
    "print(tf.__version__)"
   ]
  },
  {
   "cell_type": "markdown",
   "id": "693c927b-aefe-4e95-a627-61d3d16ee918",
   "metadata": {},
   "source": [
    "**Loading the dataset**"
   ]
  },
  {
   "cell_type": "code",
   "execution_count": 4,
   "id": "42cbb35a-9692-4aab-b7c2-a12d098f72d5",
   "metadata": {
    "tags": []
   },
   "outputs": [
    {
     "name": "stdout",
     "output_type": "stream",
     "text": [
      "Successfully downloaded train-images-idx3-ubyte.gz 9912422 bytes.\n",
      "Extracting data/mnist\\train-images-idx3-ubyte.gz\n",
      "Successfully downloaded train-labels-idx1-ubyte.gz 28881 bytes.\n",
      "Extracting data/mnist\\train-labels-idx1-ubyte.gz\n",
      "Successfully downloaded t10k-images-idx3-ubyte.gz 1648877 bytes.\n",
      "Extracting data/mnist\\t10k-images-idx3-ubyte.gz\n",
      "Successfully downloaded t10k-labels-idx1-ubyte.gz 4542 bytes.\n",
      "Extracting data/mnist\\t10k-labels-idx1-ubyte.gz\n"
     ]
    }
   ],
   "source": [
    "mnist = input_data.read_data_sets(\"data/mnist\", one_hot=True)"
   ]
  },
  {
   "cell_type": "code",
   "execution_count": 5,
   "id": "2aceff37-5cb3-44a4-883d-e63859b135f9",
   "metadata": {
    "tags": []
   },
   "outputs": [
    {
     "name": "stdout",
     "output_type": "stream",
     "text": [
      "No of images in training set (55000, 784)\n",
      "No of labels in training set (55000, 10)\n",
      "No of images in test set (10000, 784)\n",
      "No of labels in test set (10000, 10)\n"
     ]
    }
   ],
   "source": [
    "print(\"No of images in training set {}\".format(mnist.train.images.shape))\n",
    "print(\"No of labels in training set {}\".format(mnist.train.labels.shape))\n",
    "\n",
    "print(\"No of images in test set {}\".format(mnist.test.images.shape))\n",
    "print(\"No of labels in test set {}\".format(mnist.test.labels.shape))"
   ]
  },
  {
   "cell_type": "code",
   "execution_count": 6,
   "id": "27f58366-fb09-489c-b363-d4c92b689cc4",
   "metadata": {
    "tags": []
   },
   "outputs": [
    {
     "data": {
      "text/plain": [
       "<matplotlib.image.AxesImage at 0x23d6dd44188>"
      ]
     },
     "execution_count": 6,
     "metadata": {},
     "output_type": "execute_result"
    },
    {
     "data": {
      "image/png": "[encoded data removed]",
      "text/plain": [
       "<Figure size 640x480 with 1 Axes>"
      ]
     },
     "metadata": {},
     "output_type": "display_data"
    }
   ],
   "source": [
    "img1 = mnist.train.images[0].reshape(28,28)\n",
    "plt.imshow(img1, cmap='Greys')"
   ]
  },
  {
   "cell_type": "markdown",
   "id": "a59ced96-81c1-48bd-8d62-5efc854debdc",
   "metadata": {
    "tags": []
   },
   "source": [
    "**Defining the number of neurons in each layer**"
   ]
  },
  {
   "cell_type": "code",
   "execution_count": 7,
   "id": "c7287ccc-123e-4b0c-a11f-f887a0ef00b1",
   "metadata": {
    "tags": []
   },
   "outputs": [],
   "source": [
    "#number of neurons in input layer\n",
    "num_input = 784  \n",
    "\n",
    "#number of neurons in hidden layer 1\n",
    "num_hidden1 = 512  \n",
    "\n",
    "#number of neurons in hidden layer 2\n",
    "num_hidden2 = 256  \n",
    "\n",
    "#number of neurons in hidden layer 3\n",
    "num_hidden_3 = 128  \n",
    "\n",
    "#number of neurons in output layer\n",
    "num_output = 10 "
   ]
  },
  {
   "cell_type": "markdown",
   "id": "d049e21b-56c9-4026-9ddd-c916d0c6ff5c",
   "metadata": {},
   "source": [
    "**Defining placeholders**"
   ]
  },
  {
   "cell_type": "code",
   "execution_count": 8,
   "id": "7ea28cdf-5a61-4713-adcd-cf26b5f54024",
   "metadata": {
    "tags": []
   },
   "outputs": [],
   "source": [
    "with tf.name_scope('input'):\n",
    "    X = tf.placeholder(\"float\", [None, num_input])\n",
    "\n",
    "with tf.name_scope('output'):\n",
    "    Y = tf.placeholder(\"float\", [None, num_output])"
   ]
  },
  {
   "cell_type": "markdown",
   "id": "4ccaa107-82cd-42eb-a7f7-19142763d3db",
   "metadata": {},
   "source": [
    "**Since we have a 4 layer network, we have 4 weights and 4 baises. We initialize our weights by drawing values from the truncated normal distribution with a standard deviation of 0.1.**"
   ]
  },
  {
   "cell_type": "code",
   "execution_count": 9,
   "id": "d5c3808a-a0a8-43f0-8a7f-aaf06085df01",
   "metadata": {
    "tags": []
   },
   "outputs": [],
   "source": [
    "with tf.name_scope('weights'):\n",
    "    \n",
    "        weights = {\n",
    "        'w1': tf.Variable(tf.truncated_normal([num_input, num_hidden1], stddev=0.1),name='weight_1'),\n",
    "        'w2': tf.Variable(tf.truncated_normal([num_hidden1, num_hidden2], stddev=0.1),name='weight_2'),\n",
    "        'w3': tf.Variable(tf.truncated_normal([num_hidden2, num_hidden_3], stddev=0.1),name='weight_3'),\n",
    "        'out': tf.Variable(tf.truncated_normal([num_hidden_3, num_output], stddev=0.1),name='weight_4'),\n",
    "    }"
   ]
  },
  {
   "cell_type": "code",
   "execution_count": 10,
   "id": "e5eb1334-d1b9-436e-9775-c30ec9ac31dd",
   "metadata": {
    "tags": []
   },
   "outputs": [],
   "source": [
    "with tf.name_scope('biases'):\n",
    "\n",
    "    biases = {\n",
    "        'b1': tf.Variable(tf.constant(0.1, shape=[num_hidden1]),name='bias_1'),\n",
    "        'b2': tf.Variable(tf.constant(0.1, shape=[num_hidden2]),name='bias_2'),\n",
    "        'b3': tf.Variable(tf.constant(0.1, shape=[num_hidden_3]),name='bias_3'),\n",
    "        'out': tf.Variable(tf.constant(0.1, shape=[num_output]),name='bias_4')\n",
    "    }"
   ]
  },
  {
   "cell_type": "markdown",
   "id": "7f0fcdd7-6791-4200-9638-11ece9e137ad",
   "metadata": {},
   "source": [
    "**Forward propagation**"
   ]
  },
  {
   "cell_type": "code",
   "execution_count": 11,
   "id": "4e77f28a-12f6-4826-9ead-960db5cb182d",
   "metadata": {
    "tags": []
   },
   "outputs": [],
   "source": [
    "with tf.name_scope('Model'):\n",
    "    \n",
    "    with tf.name_scope('layer1'):\n",
    "        layer_1 = tf.nn.relu(tf.add(tf.matmul(X, weights['w1']), biases['b1']) )   \n",
    "    \n",
    "    with tf.name_scope('layer2'):\n",
    "        layer_2 = tf.nn.relu(tf.add(tf.matmul(layer_1, weights['w2']), biases['b2']))\n",
    "        \n",
    "    with tf.name_scope('layer3'):\n",
    "        layer_3 = tf.nn.relu(tf.add(tf.matmul(layer_2, weights['w3']), biases['b3']))\n",
    "        \n",
    "    with tf.name_scope('output_layer'):\n",
    "         y_hat = tf.nn.sigmoid(tf.matmul(layer_3, weights['out']) + biases['out'])"
   ]
  },
  {
   "cell_type": "markdown",
   "id": "897f172b-a662-40df-b08c-3df7bf191225",
   "metadata": {},
   "source": [
    "**Computing Loss and Backpropagate**"
   ]
  },
  {
   "cell_type": "code",
   "execution_count": 12,
   "id": "07235231-3978-4e3f-a19e-4fda11fad9fd",
   "metadata": {
    "tags": []
   },
   "outputs": [],
   "source": [
    "with tf.name_scope('Loss'):\n",
    "        loss = tf.reduce_mean(tf.nn.softmax_cross_entropy_with_logits(logits=y_hat,labels=Y))"
   ]
  },
  {
   "cell_type": "code",
   "execution_count": 13,
   "id": "1d222a50-ef14-4a34-a8e1-98a301b1d857",
   "metadata": {
    "tags": []
   },
   "outputs": [],
   "source": [
    "optimizer = tf.train.AdamOptimizer(1e-4).minimize(loss)"
   ]
  },
  {
   "cell_type": "markdown",
   "id": "d6902c81-2bef-40f9-8638-92536c6cf9ff",
   "metadata": {},
   "source": [
    "**Computing Accuracy**"
   ]
  },
  {
   "cell_type": "code",
   "execution_count": 14,
   "id": "670bef48-4c48-45c9-9bf8-be16f3b0d0f7",
   "metadata": {
    "tags": []
   },
   "outputs": [],
   "source": [
    "with tf.name_scope('Accuracy'):\n",
    "    \n",
    "    predicted_digit = tf.argmax(y_hat, 1)\n",
    "    actual_digit = tf.argmax(Y, 1)\n",
    "    \n",
    "    correct_pred = tf.equal(predicted_digit,actual_digit)\n",
    "    accuracy = tf.reduce_mean(tf.cast(correct_pred, tf.float32))"
   ]
  },
  {
   "cell_type": "markdown",
   "id": "4a244e94-1b97-496b-90ea-4386ed792db3",
   "metadata": {},
   "source": [
    "**Creating Summary**"
   ]
  },
  {
   "cell_type": "code",
   "execution_count": 15,
   "id": "a09459c4-c51b-4c95-ba6f-d21ab27ca8dd",
   "metadata": {
    "tags": []
   },
   "outputs": [
    {
     "data": {
      "text/plain": [
       "<tf.Tensor 'Loss_1:0' shape=() dtype=string>"
      ]
     },
     "execution_count": 15,
     "metadata": {},
     "output_type": "execute_result"
    }
   ],
   "source": [
    "tf.summary.scalar(\"Accuracy\", accuracy)\n",
    "\n",
    "tf.summary.scalar(\"Loss\", loss)"
   ]
  },
  {
   "cell_type": "code",
   "execution_count": 16,
   "id": "1590b4c8-2158-4a9c-b8b5-5b2f312c6eaa",
   "metadata": {
    "tags": []
   },
   "outputs": [],
   "source": [
    "merge_summary = tf.summary.merge_all()"
   ]
  },
  {
   "cell_type": "markdown",
   "id": "1a97a5d8-65b5-49e9-a79f-5789a3394b3d",
   "metadata": {},
   "source": [
    "**Training the model**"
   ]
  },
  {
   "cell_type": "code",
   "execution_count": 17,
   "id": "03d9d8f8-83e8-483c-a211-9664aec0de27",
   "metadata": {
    "tags": []
   },
   "outputs": [],
   "source": [
    "init = tf.global_variables_initializer()"
   ]
  },
  {
   "cell_type": "code",
   "execution_count": 18,
   "id": "90404f0d-64d7-487f-aaf4-943b5acc350a",
   "metadata": {
    "tags": []
   },
   "outputs": [],
   "source": [
    "batch_size = 128\n",
    "num_iterations = 1000"
   ]
  },
  {
   "cell_type": "code",
   "execution_count": 19,
   "id": "5791c088-db76-43f3-af50-a91c066bd161",
   "metadata": {
    "tags": []
   },
   "outputs": [
    {
     "name": "stdout",
     "output_type": "stream",
     "text": [
      "Iteration: 0, Loss: 2.2728686332702637, Accuracy: 0.1328125\n",
      "Iteration: 100, Loss: 1.7491254806518555, Accuracy: 0.8046875\n",
      "Iteration: 200, Loss: 1.6361286640167236, Accuracy: 0.8828125\n",
      "Iteration: 300, Loss: 1.5938026905059814, Accuracy: 0.8984375\n",
      "Iteration: 400, Loss: 1.5496151447296143, Accuracy: 0.9296875\n",
      "Iteration: 500, Loss: 1.5685521364212036, Accuracy: 0.9140625\n",
      "Iteration: 600, Loss: 1.549737811088562, Accuracy: 0.9140625\n",
      "Iteration: 700, Loss: 1.5316247940063477, Accuracy: 0.953125\n",
      "Iteration: 800, Loss: 1.5441861152648926, Accuracy: 0.9140625\n",
      "Iteration: 900, Loss: 1.5117716789245605, Accuracy: 0.96875\n"
     ]
    }
   ],
   "source": [
    "with tf.Session() as sess:\n",
    "\n",
    "    #run the initializer\n",
    "    sess.run(init)\n",
    "\n",
    "    #save the event files\n",
    "    summary_writer = tf.summary.FileWriter('./graphs', graph=tf.get_default_graph())\n",
    "\n",
    "    #train for some n number of iterations\n",
    "    for i in range(num_iterations):\n",
    "        \n",
    "        #get batch of data according to batch size\n",
    "        batch_x, batch_y = mnist.train.next_batch(batch_size)\n",
    "        \n",
    "        #train the network\n",
    "        sess.run(optimizer, feed_dict={\n",
    "            X: batch_x, Y: batch_y\n",
    "            })\n",
    "\n",
    "        #print loss and accuracy on every 100th iteration\n",
    "        if i % 100 == 0:\n",
    "            \n",
    "            #compute loss, accuracy and summary\n",
    "            batch_loss, batch_accuracy,summary = sess.run(\n",
    "                [loss, accuracy, merge_summary], feed_dict={X: batch_x, Y: batch_y}\n",
    "                )\n",
    "\n",
    "            #store all the summaries\n",
    "            summary_writer.add_summary(summary, i)\n",
    "\n",
    "\n",
    "            print('Iteration: {}, Loss: {}, Accuracy: {}'.format(i,batch_loss,batch_accuracy))"
   ]
  },
  {
   "cell_type": "markdown",
   "id": "bf276116-8b48-474e-a9e3-a0c1f57ea7d1",
   "metadata": {},
   "source": [
    "**We observe that the loss decreases and the accuracy increases over the training iterations.**"
   ]
  }
 ],
 "metadata": {
  "kernelspec": {
   "display_name": "Python (tf1_env)",
   "language": "python",
   "name": "tf1_env"
  },
  "language_info": {
   "codemirror_mode": {
    "name": "ipython",
    "version": 3
   },
   "file_extension": ".py",
   "mimetype": "text/x-python",
   "name": "python",
   "nbconvert_exporter": "python",
   "pygments_lexer": "ipython3",
   "version": "3.7.16"
  }
 },
 "nbformat": 4,
 "nbformat_minor": 5
}
